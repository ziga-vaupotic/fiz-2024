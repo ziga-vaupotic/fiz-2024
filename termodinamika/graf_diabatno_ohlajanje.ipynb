{
 "cells": [
  {
   "cell_type": "code",
   "execution_count": 1,
   "metadata": {},
   "outputs": [
    {
     "ename": "ModuleNotFoundError",
     "evalue": "No module named 'pandas'",
     "output_type": "error",
     "traceback": [
      "\u001b[1;31m---------------------------------------------------------------------------\u001b[0m",
      "\u001b[1;31mModuleNotFoundError\u001b[0m                       Traceback (most recent call last)",
      "Input \u001b[1;32mIn [1]\u001b[0m, in \u001b[0;36m<cell line: 2>\u001b[1;34m()\u001b[0m\n\u001b[0;32m      1\u001b[0m \u001b[38;5;28;01mimport\u001b[39;00m \u001b[38;5;21;01mmatplotlib\u001b[39;00m\u001b[38;5;21;01m.\u001b[39;00m\u001b[38;5;21;01mpyplot\u001b[39;00m \u001b[38;5;28;01mas\u001b[39;00m \u001b[38;5;21;01mplt\u001b[39;00m\n\u001b[1;32m----> 2\u001b[0m \u001b[38;5;28;01mimport\u001b[39;00m \u001b[38;5;21;01mpandas\u001b[39;00m \u001b[38;5;28;01mas\u001b[39;00m \u001b[38;5;21;01mpd\u001b[39;00m\n\u001b[0;32m      3\u001b[0m \u001b[38;5;28;01mimport\u001b[39;00m \u001b[38;5;21;01mnumpy\u001b[39;00m \u001b[38;5;28;01mas\u001b[39;00m \u001b[38;5;21;01mnp\u001b[39;00m\n\u001b[0;32m      4\u001b[0m \u001b[38;5;28;01mfrom\u001b[39;00m \u001b[38;5;21;01mcollections\u001b[39;00m \u001b[38;5;28;01mimport\u001b[39;00m defaultdict\n",
      "\u001b[1;31mModuleNotFoundError\u001b[0m: No module named 'pandas'"
     ]
    }
   ],
   "source": [
    "import matplotlib.pyplot as plt\n",
    "import pandas as pd\n",
    "import numpy as np\n",
    "from collections import defaultdict\n",
    "import math as mt \n",
    "import matplotlib.ticker as ticker\n",
    "import plots\n",
    "\n",
    "ex = pd.read_csv('Untitled2.csv')\n",
    "keyss = ex.keys()\n",
    "\n",
    "new_table = defaultdict(lambda : [])\n",
    "\n",
    "for k in range(0, mt.floor((len(keyss)) /2) - 1):\n",
    "    for i in range(0, len(ex[keyss[0]]) - 1):\n",
    "        new_table[keyss[k + 1]].append(float(str(int(ex[keyss[k * 2 + 1]][i])) + \".\" + str(int(ex[keyss[k*2 + 2]][i]))))\n",
    "\n",
    "\n",
    "P = [x for x in new_table[\"tlak\"]]\n",
    "T = [x for x in new_table[\"temperatura Kelvin\"]]\n",
    "\n",
    "#print(plt.yticks())\n",
    "#plt.yticks([plt.yticks().index(x) for x in plt.yticks() if x[0].is_integer()])\n",
    " \n",
    "plt.scatter(np.array(T), np.array(P), marker=\"+\", label=\"Meritve\")\n",
    "\n",
    "\n",
    "start, end = plt.xlim()\n",
    "\n",
    "\n",
    "x_apr = np.linspace(start, end, 4)\n",
    "linear_approx = np.poly1d(np.polyfit(np.array(T), np.array(P), 1))\n",
    "\n",
    "plt.plot(x_apr, linear_approx(x_apr), label=\"Linearni približek\", linestyle=\"dashed\", color=\"red\")\n",
    "\n",
    "circle1 = plt.Circle((300.4, 97.6), 0.4, color='g', fill=False, linestyle=\"dotted\", label=\"Napaka zaradi ledu\")\n",
    "plt.gca().add_patch(circle1)\n",
    "\n",
    "plt.grid()\n",
    "plt.legend()\n",
    "plt.title(\"Odvisnost tlaka od temperature\")\n",
    "plt.xlabel(r\"Temperatura $[K]$\")\n",
    "plt.ylabel(r\"Tlak $[kPa]$\")\n",
    "plt.savefig(\"diab.png\", dpi=200)\n",
    "#print(ex.keys())\n"
   ]
  }
 ],
 "metadata": {
  "kernelspec": {
   "display_name": "Python 3",
   "language": "python",
   "name": "python3"
  },
  "language_info": {
   "codemirror_mode": {
    "name": "ipython",
    "version": 3
   },
   "file_extension": ".py",
   "mimetype": "text/x-python",
   "name": "python",
   "nbconvert_exporter": "python",
   "pygments_lexer": "ipython3",
   "version": "3.10.4"
  },
  "orig_nbformat": 4
 },
 "nbformat": 4,
 "nbformat_minor": 2
}
